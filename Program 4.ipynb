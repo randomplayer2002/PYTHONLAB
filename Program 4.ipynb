{
 "cells": [
  {
   "cell_type": "code",
   "execution_count": 3,
   "id": "4237fe20",
   "metadata": {},
   "outputs": [
    {
     "name": "stdout",
     "output_type": "stream",
     "text": [
      "Enter the string: ab cdef ghij\n",
      "igeca\n"
     ]
    }
   ],
   "source": [
    "# 4A. PRINT THE GIVEN STRING IN THE REVERSE ORDER\n",
    "\n",
    "s = input('Enter the string: ')\n",
    "rev = s[ : :-1]\n",
    "rev  = rev.replace(\" \",\"\")\n",
    "print(rev[1: :2])"
   ]
  },
  {
   "cell_type": "code",
   "execution_count": 2,
   "id": "9ae592e8",
   "metadata": {},
   "outputs": [
    {
     "name": "stdout",
     "output_type": "stream",
     "text": [
      "Enter the string: amith@gmail.com;aj@gmail.com;\n",
      "amith@gmail.com\n",
      "aj@gmail.com\n"
     ]
    }
   ],
   "source": [
    "# 4B. PRINT ALL ';' SEPARATED EMAIL ID'S\n",
    "\n",
    "s = input('Enter the string: ')\n",
    "start = 0\n",
    "end = s.index(';')\n",
    "while end!=-1:\n",
    "    print(s[start:end])\n",
    "    start= end+1\n",
    "    end = s.find(';',start,len(s))\n",
    "    "
   ]
  },
  {
   "cell_type": "code",
   "execution_count": 7,
   "id": "cfdfc048",
   "metadata": {},
   "outputs": [
    {
     "name": "stdout",
     "output_type": "stream",
     "text": [
      "Enter the string: hello world !!\n",
      "{'h': 1, 'e': 1, 'l': 3, 'o': 2, ' ': 2, 'w': 1, 'r': 1, 'd': 1, '!': 2}\n"
     ]
    }
   ],
   "source": [
    "# 4C. COUNT THE OCCURANCE OF ALL THE CHARACTERS OF THE STRING USING DICTIONARY\n",
    "\n",
    "s = input('Enter the string: ')\n",
    "d = {}\n",
    "\n",
    "for char in s:\n",
    "    if char in d.keys():\n",
    "        d[char]+=1\n",
    "    else:\n",
    "        d[char]=1\n",
    "print(d)"
   ]
  }
 ],
 "metadata": {
  "kernelspec": {
   "display_name": "Python 3 (ipykernel)",
   "language": "python",
   "name": "python3"
  },
  "language_info": {
   "codemirror_mode": {
    "name": "ipython",
    "version": 3
   },
   "file_extension": ".py",
   "mimetype": "text/x-python",
   "name": "python",
   "nbconvert_exporter": "python",
   "pygments_lexer": "ipython3",
   "version": "3.9.7"
  }
 },
 "nbformat": 4,
 "nbformat_minor": 5
}
