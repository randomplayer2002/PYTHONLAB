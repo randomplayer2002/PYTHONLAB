{
 "cells": [
  {
   "cell_type": "code",
   "execution_count": 3,
   "id": "f93293d1",
   "metadata": {},
   "outputs": [
    {
     "name": "stdout",
     "output_type": "stream",
     "text": [
      "Fruit thst keeps doctor away\n",
      "['_', '_', '_', '_', '_']\n",
      "Guess the letter: a\n",
      "remaining turns  5\n",
      "['a', '_', '_', '_', '_']\n",
      "Guess the letter: p\n",
      "remaining turns  4\n",
      "['a', 'p', 'p', '_', '_']\n",
      "Guess the letter: l\n",
      "remaining turns  3\n",
      "['a', 'p', 'p', 'l', '_']\n",
      "Guess the letter: e\n",
      "['a', 'p', 'p', 'l', 'e']\n",
      "you won!!\n"
     ]
    }
   ],
   "source": [
    "# 5 HANG MAN GAME\n",
    "\n",
    "hint = 'Fruit thst keeps doctor away'\n",
    "print(hint)\n",
    "word = 'apple'\n",
    "guess = ['_']*len(word)\n",
    "turns = len(word)+1\n",
    "\n",
    "while turns>0:\n",
    "    print(guess)\n",
    "    letter = input('Guess the letter: ')\n",
    "    if letter in word:\n",
    "        for index in range (len(word)):\n",
    "            if word[index]==letter:\n",
    "                guess[index] = letter\n",
    "    else:\n",
    "        print('wrong guess')\n",
    "        \n",
    "    if list(word)==guess:\n",
    "        print(guess)\n",
    "        print('you won!!')\n",
    "        break\n",
    "        \n",
    "    turns-=1\n",
    "    print('remaining turns ',turns)"
   ]
  }
 ],
 "metadata": {
  "kernelspec": {
   "display_name": "Python 3 (ipykernel)",
   "language": "python",
   "name": "python3"
  },
  "language_info": {
   "codemirror_mode": {
    "name": "ipython",
    "version": 3
   },
   "file_extension": ".py",
   "mimetype": "text/x-python",
   "name": "python",
   "nbconvert_exporter": "python",
   "pygments_lexer": "ipython3",
   "version": "3.9.7"
  }
 },
 "nbformat": 4,
 "nbformat_minor": 5
}
