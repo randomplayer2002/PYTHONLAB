{
 "cells": [
  {
   "cell_type": "code",
   "execution_count": 11,
   "id": "2a3bc4fe",
   "metadata": {},
   "outputs": [
    {
     "name": "stdout",
     "output_type": "stream",
     "text": [
      "Enter the string: amith@gmail.com 4349 is the email id\n",
      "amith@gmail.com\n"
     ]
    }
   ],
   "source": [
    "# 7A. EXTRACT EMAIL ID'S FROM A GIVEN TEXT\n",
    "\n",
    "import re\n",
    "s = input('Enter the string: ')\n",
    "words = s.split()\n",
    "reg = '[a-zA-Z0-9_.]+@[a-zA-Z0-9.]+\\.[a-zA-Z]+'\n",
    "\n",
    "for word in words:\n",
    "    obj = re.match(reg,word)\n",
    "    if obj:\n",
    "        print(word)"
   ]
  },
  {
   "cell_type": "code",
   "execution_count": 13,
   "id": "9f87b23d",
   "metadata": {},
   "outputs": [
    {
     "name": "stdout",
     "output_type": "stream",
     "text": [
      "Enter the password: AJaa$2002\n",
      "Valid password!\n"
     ]
    }
   ],
   "source": [
    "''' 7B. VALIDATE THE USER PASSWORD WITH THE MIN LENGTH OF 6 AND MAX LENGTH OF 16 MUST HAVE ONE LOWER CASE AND ONE UPPER CASE AND\n",
    "NUMBER AND AT LEAST ONE SPECIAL CHARACTER''' \n",
    "\n",
    "import re \n",
    "password = input('Enter the password: ')\n",
    "reg = '^(?=.*[a-z])(?=.*[A-Z])(?=.*[0-9])(?=.*[@#_$])[a-zA-Z0-9_#$]{6,16}$'\n",
    "obj = re.match(reg,password)\n",
    "if obj:\n",
    "    print('Valid password!')\n",
    "else:\n",
    "    print('Invalid password!')\n"
   ]
  }
 ],
 "metadata": {
  "kernelspec": {
   "display_name": "Python 3 (ipykernel)",
   "language": "python",
   "name": "python3"
  },
  "language_info": {
   "codemirror_mode": {
    "name": "ipython",
    "version": 3
   },
   "file_extension": ".py",
   "mimetype": "text/x-python",
   "name": "python",
   "nbconvert_exporter": "python",
   "pygments_lexer": "ipython3",
   "version": "3.9.7"
  }
 },
 "nbformat": 4,
 "nbformat_minor": 5
}
