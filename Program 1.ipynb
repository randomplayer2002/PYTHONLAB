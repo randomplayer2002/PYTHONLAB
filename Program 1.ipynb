{
 "cells": [
  {
   "cell_type": "code",
   "execution_count": 8,
   "id": "975773e7",
   "metadata": {},
   "outputs": [
    {
     "name": "stdout",
     "output_type": "stream",
     "text": [
      "enter the number: 7534\n",
      "The sum of the digit of the number is:  1\n",
      "it's a magic number\n"
     ]
    }
   ],
   "source": [
    "# 1A. MAGIC NUMBER\n",
    "\n",
    "num = input('enter the number: ')\n",
    "while len(num)>1:\n",
    "    sum = 0\n",
    "    for i in num:\n",
    "        sum+=int(i)\n",
    "    num = str(sum)\n",
    "print('The sum of the digit of the number is: ',sum)\n",
    "if num == '1':\n",
    "    print(\"it's a magic number\")\n",
    "else:\n",
    "    print(\"it's NOT a magic number\")"
   ]
  },
  {
   "cell_type": "code",
   "execution_count": 7,
   "id": "ac4cb85e",
   "metadata": {},
   "outputs": [
    {
     "name": "stdout",
     "output_type": "stream",
     "text": [
      "Enter the range: 10\n",
      "2\n",
      "3\n",
      "5\n",
      "7\n"
     ]
    }
   ],
   "source": [
    "# 1B. PRIME NUMBER\n",
    "\n",
    "num = int(input('Enter the range: '))\n",
    "for i in range(2,num+1):\n",
    "    prime = 1\n",
    "    \n",
    "    for j in range(2,i):\n",
    "        if(i%j==0):\n",
    "            prime=0\n",
    "    if prime==1:\n",
    "        print(i)"
   ]
  },
  {
   "cell_type": "code",
   "execution_count": null,
   "id": "56dd050b",
   "metadata": {},
   "outputs": [],
   "source": []
  }
 ],
 "metadata": {
  "kernelspec": {
   "display_name": "Python 3 (ipykernel)",
   "language": "python",
   "name": "python3"
  },
  "language_info": {
   "codemirror_mode": {
    "name": "ipython",
    "version": 3
   },
   "file_extension": ".py",
   "mimetype": "text/x-python",
   "name": "python",
   "nbconvert_exporter": "python",
   "pygments_lexer": "ipython3",
   "version": "3.9.7"
  }
 },
 "nbformat": 4,
 "nbformat_minor": 5
}
