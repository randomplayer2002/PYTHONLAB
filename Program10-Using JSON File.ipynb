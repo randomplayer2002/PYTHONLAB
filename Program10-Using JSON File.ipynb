{
 "cells": [
  {
   "cell_type": "code",
   "execution_count": 3,
   "id": "46b84f34",
   "metadata": {},
   "outputs": [
    {
     "name": "stdout",
     "output_type": "stream",
     "text": [
      "Enter the wordabjure\n",
      "The meaning of the word is abjure : formally reject or disavow a formerly held belief\n"
     ]
    }
   ],
   "source": [
    "import json\n",
    "import difflib\n",
    "\n",
    "file = open(\"C:/Users/amith/OneDrive/Desktop/Python/words.json\")\n",
    "words = json.load(file)\n",
    "user_word = input(\"Enter the word\")\n",
    "\n",
    "if user_word in words.keys():\n",
    "    print(\"The meaning of the word is\",user_word,\":\",words[user_word])\n",
    "else:\n",
    "    best_match = difflib.get_close_matches(user_word,words.keys())\n",
    "    if len(best_match)>0:\n",
    "        best_match = best_match[0]\n",
    "        print(\"Did you mean\",best_match,\"?say yes or no\")\n",
    "        your = input()\n",
    "        if your == \"yes\":\n",
    "            print(\"Then the meaning of the word\",best_match,\":\",words[best_match])\n",
    "        else:\n",
    "            print(\"No match found\")\n",
    "    else:\n",
    "        print(\"No match found\")"
   ]
  }
 ],
 "metadata": {
  "kernelspec": {
   "display_name": "Python 3 (ipykernel)",
   "language": "python",
   "name": "python3"
  },
  "language_info": {
   "codemirror_mode": {
    "name": "ipython",
    "version": 3
   },
   "file_extension": ".py",
   "mimetype": "text/x-python",
   "name": "python",
   "nbconvert_exporter": "python",
   "pygments_lexer": "ipython3",
   "version": "3.9.7"
  }
 },
 "nbformat": 4,
 "nbformat_minor": 5
}
