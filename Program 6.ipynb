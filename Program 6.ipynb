{
 "cells": [
  {
   "cell_type": "code",
   "execution_count": 8,
   "id": "9aa678e4",
   "metadata": {},
   "outputs": [
    {
     "name": "stdout",
     "output_type": "stream",
     "text": [
      "Enter the string: James id is lost!!\n",
      "Number of words:  4 \n",
      "length of each words: \n",
      "{'James': 5, 'id': 2, 'is': 2, 'lost!!': 6}\n"
     ]
    }
   ],
   "source": [
    "# 6A. PRINTING ALL WORDS IN THE STRING ALONG WITH THEIR LENGTH AND TOTAL WORDS IN THE STRING\n",
    "\n",
    "string = input('Enter the string: ')\n",
    "words = string.split()\n",
    "dict = {}\n",
    "\n",
    "for w in words:\n",
    "    dict[w]=len(w)\n",
    "print('Number of words: ',len(words),'\\nlength of each words: ')\n",
    "print(dict)"
   ]
  },
  {
   "cell_type": "code",
   "execution_count": 15,
   "id": "844f50a1",
   "metadata": {},
   "outputs": [
    {
     "name": "stdout",
     "output_type": "stream",
     "text": [
      "Enter the value of n: 5\n",
      "[3, 2, 1, 1, 0]\n"
     ]
    }
   ],
   "source": [
    "# 6B. DISPLAY FIRST N FIBONACCI SERIES IN REVERSE ORDER\n",
    "\n",
    "fab = []\n",
    "n = input('Enter the value of n: ')\n",
    "if n.isnumeric():\n",
    "    n = int(n)\n",
    "    f1 = 0\n",
    "    f2 = 1\n",
    "    fab.append(f2)\n",
    "    fab.append(f1)\n",
    "    for i in range(n-2):\n",
    "        f3=f2+f1\n",
    "        f1=f2\n",
    "        f2=f3\n",
    "        fab.insert(0,f3)\n",
    "    print(fab)\n",
    "else:\n",
    "    print('enter the valid number')"
   ]
  }
 ],
 "metadata": {
  "kernelspec": {
   "display_name": "Python 3 (ipykernel)",
   "language": "python",
   "name": "python3"
  },
  "language_info": {
   "codemirror_mode": {
    "name": "ipython",
    "version": 3
   },
   "file_extension": ".py",
   "mimetype": "text/x-python",
   "name": "python",
   "nbconvert_exporter": "python",
   "pygments_lexer": "ipython3",
   "version": "3.9.7"
  }
 },
 "nbformat": 4,
 "nbformat_minor": 5
}
