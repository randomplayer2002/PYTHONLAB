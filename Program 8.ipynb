{
 "cells": [
  {
   "cell_type": "code",
   "execution_count": 7,
   "id": "d2542174",
   "metadata": {},
   "outputs": [
    {
     "name": "stdout",
     "output_type": "stream",
     "text": [
      "Root:  E:/CS\n",
      "Subdirectiories:  []\n",
      "Files:  ['R.pdf']\n",
      "Total files:  1\n",
      "Total Subdirectiories:  0\n"
     ]
    }
   ],
   "source": [
    "# 8A. TRAVERSE THROUGHOUT THE PATH AND FIND THE TOTAL NUMBER OF FILES AND SUBDIRECTORIES\n",
    "\n",
    "import os\n",
    "path = os.walk('E:/CS')\n",
    "totalfiles = 0\n",
    "totalsubdirectories = 0\n",
    "\n",
    "for root,subdirectories,files in path:\n",
    "    print('Root: ',root)\n",
    "    print('Subdirectiories: ',subdirectories)\n",
    "    print('Files: ',files)\n",
    "    \n",
    "    totalfiles+=len(files)\n",
    "    totalsubdirectories+=len(subdirectories)\n",
    "print('Total files: ',totalfiles)\n",
    "print('Total Subdirectiories: ',totalsubdirectories)\n"
   ]
  },
  {
   "cell_type": "code",
   "execution_count": 6,
   "id": "0dd87c19",
   "metadata": {},
   "outputs": [],
   "source": [
    "# 8B. READ THE FILE CONTENT AND COPY ONLY THE ODD LINES INTO A NEW FILE\n",
    "\n",
    "file1 = open('file1.txt')\n",
    "file2 = open('file2.txt','w')\n",
    "content = file1.read()\n",
    "lines = content.splitlines()\n",
    "oddlines =''\n",
    "for index in range(0,len(lines),2):\n",
    "    oddlines+=lines[index]+'\\n'\n",
    "file2.write(oddlines)\n",
    "file2.close()\n",
    "file1.close()"
   ]
  },
  {
   "cell_type": "code",
   "execution_count": null,
   "id": "5028b540",
   "metadata": {},
   "outputs": [],
   "source": []
  }
 ],
 "metadata": {
  "kernelspec": {
   "display_name": "Python 3 (ipykernel)",
   "language": "python",
   "name": "python3"
  },
  "language_info": {
   "codemirror_mode": {
    "name": "ipython",
    "version": 3
   },
   "file_extension": ".py",
   "mimetype": "text/x-python",
   "name": "python",
   "nbconvert_exporter": "python",
   "pygments_lexer": "ipython3",
   "version": "3.9.7"
  }
 },
 "nbformat": 4,
 "nbformat_minor": 5
}
