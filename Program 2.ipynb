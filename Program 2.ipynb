{
 "cells": [
  {
   "cell_type": "code",
   "execution_count": 1,
   "id": "904bc7f2",
   "metadata": {},
   "outputs": [
    {
     "name": "stdout",
     "output_type": "stream",
     "text": [
      "Enter the option: rock\n",
      "the system choice is:  paper\n",
      "the user choice is:  rock\n",
      "system win\n",
      "Enter the option: rock\n",
      "the system choice is:  scissor\n",
      "the user choice is:  rock\n",
      "user win\n",
      "Enter the option: rock\n",
      "the system choice is:  paper\n",
      "the user choice is:  rock\n",
      "system win\n",
      "Enter the option: rock\n",
      "the system choice is:  rock\n",
      "the user choice is:  rock\n",
      "ITS A TIE!\n",
      "Enter the option: stop\n",
      "the system choice is:  rock\n",
      "the user choice is:  stop\n"
     ]
    }
   ],
   "source": [
    "import random\n",
    "option = [\"rock\",\"paper\",\"scissor\"]\n",
    "\n",
    "while True:\n",
    "    sys = random.choice(option)\n",
    "    us = input('Enter the option: ')\n",
    "    \n",
    "    print('the system choice is: ',sys)\n",
    "    print('the user choice is: ',us)\n",
    "\n",
    "    if sys==us:\n",
    "        print('ITS A TIE!')\n",
    "    elif sys=='rock' and us=='paper':\n",
    "        print('user win')\n",
    "    elif sys=='rock' and us=='scissro':\n",
    "        print('system win')\n",
    "    elif sys=='paper' and us=='scissor':\n",
    "        print('user win')\n",
    "    elif sys=='paper' and us=='rock':\n",
    "        print('system win')\n",
    "    elif sys=='scissor' and us=='rock':\n",
    "        print('user win')\n",
    "    elif sys=='scissor' and us=='paper':\n",
    "        print('system win')\n",
    "    elif us=='stop':\n",
    "        break\n",
    "    else:\n",
    "        print('invalid choice!!')\n",
    "\n",
    "    "
   ]
  },
  {
   "cell_type": "code",
   "execution_count": null,
   "id": "8df5f26f",
   "metadata": {},
   "outputs": [],
   "source": []
  }
 ],
 "metadata": {
  "kernelspec": {
   "display_name": "Python 3 (ipykernel)",
   "language": "python",
   "name": "python3"
  },
  "language_info": {
   "codemirror_mode": {
    "name": "ipython",
    "version": 3
   },
   "file_extension": ".py",
   "mimetype": "text/x-python",
   "name": "python",
   "nbconvert_exporter": "python",
   "pygments_lexer": "ipython3",
   "version": "3.9.7"
  }
 },
 "nbformat": 4,
 "nbformat_minor": 5
}
