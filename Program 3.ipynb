{
 "cells": [
  {
   "cell_type": "code",
   "execution_count": 1,
   "id": "e6f51656",
   "metadata": {},
   "outputs": [
    {
     "name": "stdout",
     "output_type": "stream",
     "text": [
      "enter the string: @12345678910#\n",
      "12345678910\n"
     ]
    }
   ],
   "source": [
    "# 3A. STRING B/W @ AND #\n",
    "\n",
    "s = input('enter the string: ')\n",
    "positionOfAt = s.find('@')\n",
    "positionOfHash = s.find('#')\n",
    "\n",
    "print(s[positionOfAt+1:positionOfHash])\n"
   ]
  },
  {
   "cell_type": "code",
   "execution_count": 10,
   "id": "061d6d62",
   "metadata": {},
   "outputs": [
    {
     "name": "stdout",
     "output_type": "stream",
     "text": [
      "Enter the string: aseerentereeice\n",
      "occurance of e in the give string is:  7\n"
     ]
    }
   ],
   "source": [
    "# 3C. OCCURANCE OF e IN THEGIVEN STRING\n",
    "\n",
    "s = input('Enter the string: ')\n",
    "count=0\n",
    "for char in s:\n",
    "    if char=='e':\n",
    "        count+=1\n",
    "print('occurance of e in the give string is: ',count)"
   ]
  },
  {
   "cell_type": "code",
   "execution_count": 4,
   "id": "983b11e1",
   "metadata": {},
   "outputs": [
    {
     "name": "stdout",
     "output_type": "stream",
     "text": [
      "Enter the string: the king don Gonzalo !!\n",
      "king don Gonzalo !! \n"
     ]
    }
   ],
   "source": [
    "# 3C. REMOVING THE WORD 'THE' FROM THE GIVEN STRING\n",
    "\n",
    "s = input('Enter the string: ')\n",
    "words = s.split()\n",
    "res = ''\n",
    "\n",
    "for word in words:\n",
    "    if word.lower()!='the':\n",
    "        res+=word + ' '\n",
    "print(res)\n",
    "    "
   ]
  },
  {
   "cell_type": "code",
   "execution_count": 8,
   "id": "7e5a0012",
   "metadata": {},
   "outputs": [
    {
     "name": "stdout",
     "output_type": "stream",
     "text": [
      "707\n"
     ]
    }
   ],
   "source": [
    "# 3D. TOTAL NUMBER OF APPLES IN A GIVEN DICTIONARY\n",
    "\n",
    "AllGuests = {\n",
    "    \n",
    "    'Allice':{\n",
    "        'apples':7,\n",
    "        'pretzels':12\n",
    "    },\n",
    "    \n",
    "    'Bob':{\n",
    "        'ham sandwitches':3,\n",
    "        'apples':700\n",
    "    },\n",
    "    \n",
    "    'Carl':{\n",
    "        'cups':3,\n",
    "        'apple pies':10\n",
    "    }\n",
    "    \n",
    "}\n",
    "\n",
    "count = 0\n",
    "for fruits in AllGuests.values():\n",
    "    if 'apples' in fruits.keys():\n",
    "        count+=fruits['apples']\n",
    "print(count)    "
   ]
  }
 ],
 "metadata": {
  "kernelspec": {
   "display_name": "Python 3 (ipykernel)",
   "language": "python",
   "name": "python3"
  },
  "language_info": {
   "codemirror_mode": {
    "name": "ipython",
    "version": 3
   },
   "file_extension": ".py",
   "mimetype": "text/x-python",
   "name": "python",
   "nbconvert_exporter": "python",
   "pygments_lexer": "ipython3",
   "version": "3.9.7"
  }
 },
 "nbformat": 4,
 "nbformat_minor": 5
}
