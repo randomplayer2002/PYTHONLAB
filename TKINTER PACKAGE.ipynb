{
 "cells": [
  {
   "cell_type": "code",
   "execution_count": 1,
   "id": "26fd76a7",
   "metadata": {},
   "outputs": [
    {
     "name": "stdout",
     "output_type": "stream",
     "text": [
      "student1,program1\n",
      "student2,program3\n",
      "student3,program3\n",
      "student4,program3\n",
      "student5,program3\n",
      "\n"
     ]
    }
   ],
   "source": [
    "from tkinter import *\n",
    "import random\n",
    "\n",
    "window = Tk()\n",
    "window.title('program 9')\n",
    "window.geometry('300x300')\n",
    "\n",
    "strvar = StringVar()\n",
    "strvar.set('message')\n",
    "\n",
    "\n",
    "lb1 = Label(window,bg='orange',text='program 9')\n",
    "lb1.grid(row=0,column=0,padx=10)\n",
    "\n",
    "lb1 = Label(window,text='Enter the number of programs: ')\n",
    "lb1.grid(row=1,column=0,pady=10)\n",
    "\n",
    "inputfield1=Entry(window,width=10)\n",
    "inputfield1.grid(row=1,column=1,pady=20)\n",
    "\n",
    "lb1 =Label(window,text='Enter the number of students: ')\n",
    "lb1.grid(row=2,column=0,padx=20)\n",
    "\n",
    "inputfield2 = Entry(window,width=10)\n",
    "inputfield2.grid(row=2,column=1,pady=20)\n",
    "\n",
    "\n",
    "def assign():\n",
    "    programs = inputfield1.get()\n",
    "    students = inputfield2.get()\n",
    "    if programs.isdigit() and students.isdigit():\n",
    "        programs = int(programs)\n",
    "        students = int(students)\n",
    "        data = ''\n",
    "        for i in range(1,students+1):\n",
    "            data+='student'+str(i)+','\n",
    "            data+='program'+str(random.randrange(1,programs+1))+'\\n'\n",
    "        print(data)\n",
    "        CSVFile = open('student.csv','w')\n",
    "        CSVFile.write(data)\n",
    "        CSVFile.close()\n",
    "        strvar.set('You can check student.csvfile!!')\n",
    "    else:\n",
    "        strvar.set('not valid entry')\n",
    "        \n",
    "btn = Button(window,text='SUBMIT',command=assign)\n",
    "btn.grid(row=3)\n",
    "\n",
    "msg = Label(window,textvariable=strvar)\n",
    "msg.grid(row=4)\n",
    "\n",
    "\n",
    "window.mainloop()"
   ]
  },
  {
   "cell_type": "code",
   "execution_count": null,
   "id": "03af9624",
   "metadata": {},
   "outputs": [],
   "source": []
  },
  {
   "cell_type": "code",
   "execution_count": null,
   "id": "c36792a8",
   "metadata": {},
   "outputs": [],
   "source": []
  }
 ],
 "metadata": {
  "kernelspec": {
   "display_name": "Python 3 (ipykernel)",
   "language": "python",
   "name": "python3"
  },
  "language_info": {
   "codemirror_mode": {
    "name": "ipython",
    "version": 3
   },
   "file_extension": ".py",
   "mimetype": "text/x-python",
   "name": "python",
   "nbconvert_exporter": "python",
   "pygments_lexer": "ipython3",
   "version": "3.9.7"
  }
 },
 "nbformat": 4,
 "nbformat_minor": 5
}
